{
 "cells": [
  {
   "cell_type": "code",
   "execution_count": 4,
   "id": "b952d3d4",
   "metadata": {},
   "outputs": [],
   "source": [
    "import os\n",
    "import glob\n",
    "import h5py\n",
    "import numpy as np\n",
    "import pandas as pd"
   ]
  },
  {
   "cell_type": "code",
   "execution_count": 5,
   "id": "c6640af3",
   "metadata": {},
   "outputs": [],
   "source": [
    "os.chdir('/Volumes/Naomi/cameroon_dat/2B')\n",
    "#os.chdir('/n/holylfs04/LABS/moorcroft_lab/Users/sqliu/GEDI_data/TonziRanch')\n",
    "\n",
    "h5file = sorted(glob.glob('*.h5'))\n",
    "\n",
    "xmin = 12.443915\n",
    "xmax = 13.598305\n",
    "ymin = 2.880464\n",
    "ymax = 3.476500"
   ]
  },
  {
   "cell_type": "code",
   "execution_count": 6,
   "id": "0954cecc",
   "metadata": {},
   "outputs": [],
   "source": [
    "df = pd.DataFrame()\n",
    "for i in range(len(h5file)):\n",
    "    gediL2B = h5py.File(h5file[i], 'r')\n",
    "    # Get the beam information\n",
    "    beamNames = [g for g in gediL2B.keys() if g.startswith('BEAM')]\n",
    "    gediL2B_objs = []\n",
    "    gediL2B.visit(gediL2B_objs.append)                                           # Retrieve list of datasets\n",
    "    gediSDS = [o for o in gediL2B_objs if isinstance(gediL2B[o], h5py.Dataset)]\n",
    "    # iterate in each beam\n",
    "    \n",
    "    for j in range(0, len(beamNames)):\n",
    "# The whole beam names are:\n",
    "# BEAM0000 is a Coverage beam\n",
    "# BEAM0001 is a Coverage beam\n",
    "# BEAM0010 is a Coverage beam\n",
    "# BEAM0011 is a Coverage beam\n",
    "# BEAM0101 is a Full power beam\n",
    "# BEAM0110 is a Full power beam\n",
    "# BEAM1000 is a Full power beam\n",
    "# BEAM1011 is a Full power beam\n",
    "        beamSDS = [g for g in gediSDS if beamNames[j] in g]\n",
    "        # get the lon, lat first\n",
    "        zLat = gediL2B[[g for g in beamSDS if g.endswith('/lat_lowestmode')][0]][()]\n",
    "        zLon = gediL2B[[g for g in beamSDS if g.endswith('/lon_lowestmode')][0]][()]\n",
    "        iy = np.where((zLat<ymax)&(zLat>ymin))\n",
    "        ix = np.where((zLon<xmax)&(zLon>xmin))\n",
    "        iy = list(iy[0])\n",
    "        ix = list(ix[0])\n",
    "        id = set(ix)&set(iy)\n",
    "        zLat = gediL2B[[g for g in beamSDS if g.endswith('/lat_lowestmode')][0]][sorted(list(id))]\n",
    "        zLon = gediL2B[[g for g in beamSDS if g.endswith('/lon_lowestmode')][0]][sorted(list(id))]\n",
    "        dem = gediL2B[[g for g in beamSDS if g.endswith('/digital_elevation_model')][0]][sorted(list(id))]\n",
    "        zElevation = gediL2B[[g for g in beamSDS if g.endswith('/elev_lowestmode')][0]][sorted(list(id))]\n",
    "        zHigh = gediL2B[[g for g in beamSDS if g.endswith('/elev_highestreturn')][0]][sorted(list(id))]\n",
    "        canopyHeight = gediL2B[[g for g in beamSDS if g.endswith('/rh100')][0]][sorted(list(id))]\n",
    "        quality = gediL2B[[g for g in beamSDS if g.endswith('/l2b_quality_flag')][0]][sorted(list(id))]\n",
    "        degrade = gediL2B[[g for g in beamSDS if g.endswith('/degrade_flag')][0]][sorted(list(id))]\n",
    "        sensitivity = gediL2B[[g for g in beamSDS if g.endswith('/sensitivity')][0]][sorted(list(id))]\n",
    "        pai = gediL2B[[g for g in beamSDS if g.endswith('/pai')][0]][sorted(list(id))]\n",
    "        pai_z = gediL2B[[g for g in beamSDS if g.endswith('/pai_z')][0]][sorted(list(id))]\n",
    "        shotNums = gediL2B[f'{beamNames[j]}/shot_number'][sorted(list(id))]\n",
    "        shotIndex = np.arange(shotNums.size)\n",
    "        beamNums = [beamNames[j]]*shotNums.size\n",
    "        canopyHeight = canopyHeight / 100 \n",
    "\n",
    "        transectDF = pd.DataFrame({'Shot Index': shotIndex, 'Shot Number': shotNums, 'Beam': beamNums, 'Latitude': zLat, 'Longitude': zLon,\n",
    "                           'Tandem-X DEM': dem, 'Elevation (m)': zElevation, 'Canopy Elevation (m)': zHigh,\n",
    "                           'Canopy Height (rh100)': canopyHeight, 'Quality Flag': quality, 'Degrade Flag': degrade,\n",
    "                           'Plant Area Index': pai, 'Sensitivity': sensitivity})\n",
    "        pai_z_DF = pd.DataFrame(pai_z, columns=[\"pai z_%03d_cm\" % i for i in range(0,150,5)])\n",
    "        transectDF = pd.concat([transectDF, pai_z_DF], axis=1)\n",
    "        df = df.append(transectDF)\n",
    "df.to_csv('Cameroon_2b.csv', index=False)\n"
   ]
  }
 ],
 "metadata": {
  "kernelspec": {
   "display_name": "Python 3",
   "language": "python",
   "name": "python3"
  },
  "language_info": {
   "codemirror_mode": {
    "name": "ipython",
    "version": 3
   },
   "file_extension": ".py",
   "mimetype": "text/x-python",
   "name": "python",
   "nbconvert_exporter": "python",
   "pygments_lexer": "ipython3",
   "version": "3.8.8"
  }
 },
 "nbformat": 4,
 "nbformat_minor": 5
}
